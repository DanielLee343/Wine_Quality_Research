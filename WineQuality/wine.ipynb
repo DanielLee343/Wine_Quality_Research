{
 "cells": [
  {
   "cell_type": "code",
   "execution_count": 212,
   "metadata": {},
   "outputs": [],
   "source": [
    "import numpy as np\n",
    "import pandas as pd\n",
    "import matplotlib.pyplot as plt\n",
    "from sklearn.model_selection import train_test_split\n",
    "from sklearn.metrics import confusion_matrix"
   ]
  },
  {
   "cell_type": "code",
   "execution_count": 317,
   "metadata": {},
   "outputs": [],
   "source": [
    "#从csv中读取文件\n",
    "tmp = np.loadtxt(open(\"/Users/AllenLI/Codes/sklearn/winequality-red.csv\"), dtype=np.str, delimiter=\";\")\n",
    "\n",
    "Y = tmp[1:,-1].astype(np.float)  #读取标签\n",
    "X = tmp[1:,:-1].astype(np.float)  #读取特征\n",
    "\n",
    "for i in range(len(Y)):  #二值化标签\n",
    "    if 0<Y[i]<6:\n",
    "        Y[i] = 0\n",
    "    else:\n",
    "        Y[i] = 1\n",
    "            \n",
    "#划分训练集和测试集\n",
    "X_train,X_test,Y_train,Y_test = train_test_split(X,Y,test_size=0.3,random_state=32, stratify=Y)"
   ]
  },
  {
   "cell_type": "code",
   "execution_count": 318,
   "metadata": {},
   "outputs": [],
   "source": [
    "from sklearn.neighbors import KNeighborsClassifier\n",
    "from sklearn.neighbors import NearestNeighbors\n",
    "    \n",
    "#数据归一化\n",
    "minVals = X.min(0)\n",
    "maxVals = X.max(0)\n",
    "X = (X-minVals)/(maxVals-minVals)\n",
    "\n",
    "neighbors = np.arange(1,18)  #选取K值为1到18\n",
    "train_accuracy = np.empty(len(neighbors))\n",
    "test_accuracy = np.empty(len(neighbors))\n",
    "\n",
    "for i,k in enumerate(neighbors):\n",
    "    #Setup a knn classifier with k neighbors\n",
    "    knn = KNeighborsClassifier(n_neighbors=k)\n",
    "    knn.fit(X_train, Y_train)\n",
    "    train_accuracy[i] = knn.score(X_train, Y_train)\n",
    "    test_accuracy[i] = knn.score(X_test, Y_test)"
   ]
  },
  {
   "cell_type": "code",
   "execution_count": 319,
   "metadata": {},
   "outputs": [
    {
     "data": {
      "image/png": "[encoded data removed]",
      "text/plain": [
       "<Figure size 432x288 with 1 Axes>"
      ]
     },
     "metadata": {},
     "output_type": "display_data"
    }
   ],
   "source": [
    "#根据不同k值的选取绘制图表\n",
    "plt.title('k-NN Varying number of neighbors')\n",
    "plt.plot(neighbors, test_accuracy, label='Testing Accuracy')\n",
    "plt.plot(neighbors, train_accuracy, label='Training accuracy')\n",
    "plt.legend()\n",
    "plt.xlabel('Number of neighbors')\n",
    "plt.ylabel('Accuracy')\n",
    "plt.show()"
   ]
  },
  {
   "cell_type": "code",
   "execution_count": 313,
   "metadata": {},
   "outputs": [
    {
     "name": "stdout",
     "output_type": "stream",
     "text": [
      "0.75\n"
     ]
    }
   ],
   "source": [
    "from sklearn import tree\n",
    "treeclf = tree.DecisionTreeClassifier(criterion='gini')\n",
    "treeclf.fit(X_train,Y_train)\n",
    "test_accuracy = treeclf.score(X_test,Y_test)\n",
    "print(test_accuracy)"
   ]
  },
  {
   "cell_type": "code",
   "execution_count": 314,
   "metadata": {},
   "outputs": [
    {
     "data": {
      "text/plain": [
       "True"
      ]
     },
     "execution_count": 314,
     "metadata": {},
     "output_type": "execute_result"
    }
   ],
   "source": [
    "from sklearn.externals.six import StringIO\n",
    "import pydotplus\n",
    "\n",
    "# 画图，保存到pdf文件\n",
    "# 设置图像参数\n",
    "dot_data = tree.export_graphviz(treeclf, out_file=None,\n",
    "                         filled=True, rounded=True,\n",
    "                         special_characters=True)\n",
    "graph = pydotplus.graph_from_dot_data(dot_data)\n",
    "# 保存图像到pdf文件\n",
    "graph.write_pdf(\"tree.pdf\")"
   ]
  },
  {
   "cell_type": "code",
   "execution_count": 300,
   "metadata": {},
   "outputs": [],
   "source": [
    "from sklearn.naive_bayes import GaussianNB\n",
    "\n",
    "bayesclf = GaussianNB().fit(X_train, Y_train)\n",
    "test_accuracy = bayesclf.score(X_test, Y_test)"
   ]
  },
  {
   "cell_type": "code",
   "execution_count": 301,
   "metadata": {},
   "outputs": [
    {
     "data": {
      "text/plain": [
       "0.7234375"
      ]
     },
     "execution_count": 301,
     "metadata": {},
     "output_type": "execute_result"
    }
   ],
   "source": [
    "test_accuracy"
   ]
  },
  {
   "cell_type": "code",
   "execution_count": 206,
   "metadata": {},
   "outputs": [
    {
     "name": "stdout",
     "output_type": "stream",
     "text": [
      "[0.]\n"
     ]
    }
   ],
   "source": [
    "print(bayesclf.predict([X_test[32]]))"
   ]
  },
  {
   "cell_type": "code",
   "execution_count": 295,
   "metadata": {},
   "outputs": [
    {
     "name": "stdout",
     "output_type": "stream",
     "text": [
      "             precision    recall  f1-score   support\n",
      "\n",
      "        0.0       0.63      0.62      0.63       298\n",
      "        1.0       0.67      0.68      0.68       342\n",
      "\n",
      "avg / total       0.65      0.65      0.65       640\n",
      "\n"
     ]
    }
   ],
   "source": [
    "#混淆函数\n",
    "from sklearn.metrics import confusion_matrix\n",
    "from sklearn.metrics import classification_report\n",
    "Y_pred = knn.predict(X_test)\n",
    "#print(confusion_matrix(Y_test,Y_pred))\n",
    "print(classification_report(Y_test,Y_pred))"
   ]
  },
  {
   "cell_type": "code",
   "execution_count": 260,
   "metadata": {},
   "outputs": [
    {
     "data": {
      "text/plain": [
       "array([0.06493354, 0.09689237, 0.06938514, 0.07137427, 0.06919244,\n",
       "       0.06453383, 0.09306585, 0.07423613, 0.07125195, 0.09700279,\n",
       "       0.22813169])"
      ]
     },
     "execution_count": 260,
     "metadata": {},
     "output_type": "execute_result"
    }
   ],
   "source": [
    "#特征选择 树形选择法\n",
    "from sklearn.ensemble import ExtraTreesClassifier\n",
    "clf = ExtraTreesClassifier()\n",
    "clf = clf.fit(X_train, Y_train)\n",
    "clf.feature_importances_"
   ]
  },
  {
   "cell_type": "code",
   "execution_count": 326,
   "metadata": {},
   "outputs": [
    {
     "data": {
      "text/plain": [
       "array([[ 8.8, 19. , 72. ],\n",
       "       [ 7.6, 10. , 88. ],\n",
       "       [ 9.9,  6. , 33. ],\n",
       "       ...,\n",
       "       [ 8.3,  6. , 12. ],\n",
       "       [ 6.7, 15. , 36. ],\n",
       "       [ 7.9, 23. , 49. ]])"
      ]
     },
     "execution_count": 326,
     "metadata": {},
     "output_type": "execute_result"
    }
   ],
   "source": [
    "#方差选择法\n",
    "from sklearn.feature_selection import VarianceThreshold\n",
    "VarianceThreshold(threshold=3).fit_transform(X_train)"
   ]
  },
  {
   "cell_type": "code",
   "execution_count": 328,
   "metadata": {},
   "outputs": [
    {
     "data": {
      "text/plain": [
       "array([[0.39726027, 0.        , 0.09893993, 0.13772455, 0.15384615],\n",
       "       [0.52054795, 0.        , 0.2155477 , 0.20958084, 0.21538462],\n",
       "       [0.43835616, 0.04      , 0.16961131, 0.19161677, 0.21538462],\n",
       "       ...,\n",
       "       [0.26712329, 0.13      , 0.12014134, 0.25149701, 0.4       ],\n",
       "       [0.35958904, 0.12      , 0.13427562, 0.22754491, 0.27692308],\n",
       "       [0.13013699, 0.47      , 0.12720848, 0.19760479, 0.4       ]])"
      ]
     },
     "execution_count": 328,
     "metadata": {},
     "output_type": "execute_result"
    }
   ],
   "source": [
    "#卡方检验\n",
    "from sklearn.feature_selection import SelectKBest\n",
    "from sklearn.feature_selection import chi2\n",
    "SelectKBest(chi2, k=5).fit_transform(X, Y)"
   ]
  },
  {
   "cell_type": "code",
   "execution_count": null,
   "metadata": {},
   "outputs": [],
   "source": []
  }
 ],
 "metadata": {
  "kernelspec": {
   "display_name": "Python 3",
   "language": "python",
   "name": "python3"
  },
  "language_info": {
   "codemirror_mode": {
    "name": "ipython",
    "version": 3
   },
   "file_extension": ".py",
   "mimetype": "text/x-python",
   "name": "python",
   "nbconvert_exporter": "python",
   "pygments_lexer": "ipython3",
   "version": "3.6.3"
  }
 },
 "nbformat": 4,
 "nbformat_minor": 2
}
